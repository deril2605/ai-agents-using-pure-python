{
 "cells": [
  {
   "cell_type": "code",
   "execution_count": 27,
   "metadata": {},
   "outputs": [],
   "source": [
    "\"\"\"\n",
    "https://mirror-feeling-d80.notion.site/Workflow-And-Agents-17e808527b1780d792a0d934ce62bee6\n",
    "\"\"\"\n",
    "\n",
    "from langchain_openai import AzureOpenAI, AzureChatOpenAI\n",
    "import os\n",
    "from pydantic import BaseModel, Field\n",
    "from typing_extensions import TypedDict\n",
    "from langgraph.graph import StateGraph, START, END\n",
    "from IPython.display import Image, display\n",
    "\n"
   ]
  },
  {
   "cell_type": "code",
   "execution_count": null,
   "metadata": {},
   "outputs": [],
   "source": [
    "llm = AzureChatOpenAI(\n",
    "    api_key=os.getenv(\"AZURE_OPENAI_API_KEY\"),\n",
    "    api_version=os.getenv(\"AZURE_OPENAI_API_VERSION\"),\n",
    "    azure_endpoint=os.getenv(\"AZURE_OPENAI_ENDPOINT\"),\n",
    "    model=\"gpt-4o-mini\"\n",
    ")"
   ]
  },
  {
   "cell_type": "markdown",
   "metadata": {},
   "source": [
    "## Augmented LLM"
   ]
  },
  {
   "cell_type": "markdown",
   "metadata": {},
   "source": [
    "### Structured Output"
   ]
  },
  {
   "cell_type": "code",
   "execution_count": 12,
   "metadata": {},
   "outputs": [
    {
     "name": "stdout",
     "output_type": "stream",
     "text": [
      "Microsoft latest news\n",
      "To get the most recent updates and announcements from Microsoft.\n"
     ]
    }
   ],
   "source": [
    "class SearchQuery(BaseModel):\n",
    "    search_query: str = Field(None, description=\"Query that is optimized web search.\")\n",
    "    justification: str = Field(\n",
    "        None, description=\"Why this query is relevant to the user's request.\"\n",
    "    )\n",
    "\n",
    "# Augment the LLM with schema for structured output\n",
    "structured_llm = llm.with_structured_output(SearchQuery)\n",
    "\n",
    "# Invoke the augmented LLM\n",
    "output = structured_llm.invoke(\"Find out about microsoft's latest news\")\n",
    "print(output.search_query)\n",
    "print(output.justification)"
   ]
  },
  {
   "cell_type": "markdown",
   "metadata": {},
   "source": [
    "### Tool Call"
   ]
  },
  {
   "cell_type": "code",
   "execution_count": 22,
   "metadata": {},
   "outputs": [
    {
     "data": {
      "text/plain": [
       "[{'name': 'multiply_2',\n",
       "  'args': {'a': 2, 'b': 3},\n",
       "  'id': 'call_tRT3in62pm965CnpUoco2Y3D',\n",
       "  'type': 'tool_call'}]"
      ]
     },
     "execution_count": 22,
     "metadata": {},
     "output_type": "execute_result"
    }
   ],
   "source": [
    "def multiply_1(a: int, b: int) -> int:\n",
    "    \"\"\"This functions adds integers\"\"\"\n",
    "    return a * b\n",
    "\n",
    "def multiply_2(a: int, b: int) -> int:\n",
    "    \"\"\"This functions multiplies integers\"\"\"\n",
    "    return a * b\n",
    "\n",
    "def add(a:int, b:int)->int:\n",
    "    return a+b\n",
    "\n",
    "llm_with_tools = llm.bind_tools([multiply_2,multiply_1, add])\n",
    "\n",
    "msg = llm_with_tools.invoke(\"What is 2 times 3?\")\n",
    "\n",
    "msg.tool_calls"
   ]
  },
  {
   "cell_type": "markdown",
   "metadata": {},
   "source": [
    "## Workflow Patterns"
   ]
  },
  {
   "cell_type": "markdown",
   "metadata": {},
   "source": [
    "### Prompt Chaining"
   ]
  },
  {
   "cell_type": "code",
   "execution_count": 24,
   "metadata": {},
   "outputs": [],
   "source": [
    "class State(TypedDict):\n",
    "    topic: str\n",
    "    joke: str\n",
    "    improved_joke: str\n",
    "    final_joke: str"
   ]
  },
  {
   "cell_type": "code",
   "execution_count": 25,
   "metadata": {},
   "outputs": [],
   "source": [
    "# nodes in graph\n",
    "def generate_joke(state: State):\n",
    "    \"\"\"First LLM call to generate initial joke\"\"\"\n",
    "\n",
    "    msg = llm.invoke(f\"Write a short joke about {state['topic']}\")\n",
    "    return {\"joke\": msg.content}\n",
    "\n",
    "def improve_joke(state: State):\n",
    "    \"\"\"Second LLM call to improve the joke\"\"\"\n",
    "\n",
    "    msg = llm.invoke(f\"Make this joke funnier by adding wordplay: {state['joke']}\")\n",
    "    return {\"improved_joke\": msg.content}\n",
    "\n",
    "\n",
    "def polish_joke(state: State):\n",
    "    \"\"\"Third LLM call for final polish\"\"\"\n",
    "\n",
    "    msg = llm.invoke(f\"Add a surprising twist to this joke: {state['improved_joke']}\")\n",
    "    return {\"final_joke\": msg.content}"
   ]
  },
  {
   "cell_type": "code",
   "execution_count": 26,
   "metadata": {},
   "outputs": [],
   "source": [
    "# Gate check\n",
    "def check_punchline(state: State):\n",
    "    \"\"\"Gate function to check if the joke has a punchline\"\"\"\n",
    "\n",
    "    # Simple check - does the joke contain \"?\" or \"!\"\n",
    "    if \"?\" in state[\"joke\"] or \"!\" in state[\"joke\"]:\n",
    "        return \"Pass\"\n",
    "    return \"Fail\""
   ]
  },
  {
   "cell_type": "code",
   "execution_count": 28,
   "metadata": {},
   "outputs": [
    {
     "data": {
      "image/png": "[encoded data removed]",
      "text/plain": [
       "<IPython.core.display.Image object>"
      ]
     },
     "metadata": {},
     "output_type": "display_data"
    }
   ],
   "source": [
    "workflow = StateGraph(State)\n",
    "\n",
    "# Add nodes\n",
    "workflow.add_node(\"generate_joke\", generate_joke)\n",
    "workflow.add_node(\"improve_joke\", improve_joke)\n",
    "workflow.add_node(\"polish_joke\", polish_joke)\n",
    "\n",
    "workflow.add_edge(START, \"generate_joke\")\n",
    "workflow.add_conditional_edges(\n",
    "    \"generate_joke\", check_punchline, {\"Pass\": \"improve_joke\", \"Fail\": END}\n",
    ")\n",
    "workflow.add_edge(\"improve_joke\", \"polish_joke\")\n",
    "workflow.add_edge(\"polish_joke\", END)\n",
    "\n",
    "chain = workflow.compile()\n",
    "\n",
    "display(Image(chain.get_graph().draw_mermaid_png()))\n"
   ]
  },
  {
   "cell_type": "code",
   "execution_count": 29,
   "metadata": {},
   "outputs": [
    {
     "data": {
      "text/plain": [
       "{'topic': 'cats',\n",
       " 'joke': 'Why was the cat sitting on the computer? \\n\\nBecause it wanted to keep an eye on the mouse! 🐱💻',\n",
       " 'improved_joke': 'Why was the cat sitting on the computer? \\n\\nBecause it wanted to keep an eye on the mouse—after all, it heard there were some \"purr-suasive\" deals online! 🐱💻',\n",
       " 'final_joke': 'Why was the cat sitting on the computer? \\n\\nBecause it wanted to keep an eye on the mouse—after all, it heard there were some \"purr-suasive\" deals online! But little did it know, the mouse was actually a tech-savvy hacker planning to launch a catnip-themed cryptocurrency! 🐱💻💰'}"
      ]
     },
     "execution_count": 29,
     "metadata": {},
     "output_type": "execute_result"
    }
   ],
   "source": [
    "state = chain.invoke({\"topic\": \"cats\"})\n",
    "state"
   ]
  },
  {
   "cell_type": "code",
   "execution_count": 30,
   "metadata": {},
   "outputs": [
    {
     "data": {
      "text/plain": [
       "{'topic': 'windows 11',\n",
       " 'joke': 'Why did Windows 11 go to therapy? \\n\\nBecause it couldn’t stop crashing whenever it faced a problem!',\n",
       " 'improved_joke': 'Why did Windows 11 go to therapy? \\n\\nBecause it couldn’t stop crashing whenever it faced a problem—it just couldn’t handle the “pressure” and needed to “update” its emotional drivers!',\n",
       " 'final_joke': 'Why did Windows 11 go to therapy? \\n\\nBecause it couldn’t stop crashing whenever it faced a problem—it just couldn’t handle the “pressure” and needed to “update” its emotional drivers! But in a shocking twist, it discovered that the real issue was its toxic friendship with Internet Explorer, who kept dragging it down with outdated baggage!'}"
      ]
     },
     "execution_count": 30,
     "metadata": {},
     "output_type": "execute_result"
    }
   ],
   "source": [
    "state = chain.invoke({\"topic\": \"windows 11\"})\n",
    "state"
   ]
  },
  {
   "cell_type": "markdown",
   "metadata": {},
   "source": [
    "### Parallelization"
   ]
  },
  {
   "cell_type": "code",
   "execution_count": 32,
   "metadata": {},
   "outputs": [],
   "source": [
    "class State(TypedDict):\n",
    "    topic: str\n",
    "    joke: str\n",
    "    story: str\n",
    "    poem: str\n",
    "    combined_output: str"
   ]
  },
  {
   "cell_type": "code",
   "execution_count": 33,
   "metadata": {},
   "outputs": [],
   "source": [
    "# nodes as functions\n",
    "\n",
    "def call_llm_1(state: State):\n",
    "    \"\"\"First LLM call to generate initial joke\"\"\"\n",
    "\n",
    "    msg = llm.invoke(f\"Write a joke about {state['topic']}\")\n",
    "    return {\"joke\": msg.content}\n",
    "\n",
    "\n",
    "def call_llm_2(state: State):\n",
    "    \"\"\"Second LLM call to generate story\"\"\"\n",
    "\n",
    "    msg = llm.invoke(f\"Write a story about {state['topic']}\")\n",
    "    return {\"story\": msg.content}\n",
    "\n",
    "\n",
    "def call_llm_3(state: State):\n",
    "    \"\"\"Third LLM call to generate poem\"\"\"\n",
    "\n",
    "    msg = llm.invoke(f\"Write a poem about {state['topic']}\")\n",
    "    return {\"poem\": msg.content}\n",
    "\n",
    "\n",
    "def aggregator(state: State):\n",
    "    \"\"\"Combine the joke and story into a single output\"\"\"\n",
    "\n",
    "    combined = f\"Here's a story, joke, and poem about {state['topic']}!\\n\\n\"\n",
    "    combined += f\"STORY:\\n{state['story']}\\n\\n\"\n",
    "    combined += f\"JOKE:\\n{state['joke']}\\n\\n\"\n",
    "    combined += f\"POEM:\\n{state['poem']}\"\n",
    "    return {\"combined_output\": combined}"
   ]
  },
  {
   "cell_type": "code",
   "execution_count": 34,
   "metadata": {},
   "outputs": [
    {
     "data": {
      "image/png": "[encoded data removed]",
      "text/plain": [
       "<IPython.core.display.Image object>"
      ]
     },
     "metadata": {},
     "output_type": "display_data"
    }
   ],
   "source": [
    "# Build workflow\n",
    "parallel_builder = StateGraph(State)\n",
    "\n",
    "# Add nodes\n",
    "parallel_builder.add_node(\"call_llm_1\", call_llm_1)\n",
    "parallel_builder.add_node(\"call_llm_2\", call_llm_2)\n",
    "parallel_builder.add_node(\"call_llm_3\", call_llm_3)\n",
    "parallel_builder.add_node(\"aggregator\", aggregator)\n",
    "\n",
    "# Add edges to connect nodes\n",
    "parallel_builder.add_edge(START, \"call_llm_1\")\n",
    "parallel_builder.add_edge(START, \"call_llm_2\")\n",
    "parallel_builder.add_edge(START, \"call_llm_3\")\n",
    "parallel_builder.add_edge(\"call_llm_1\", \"aggregator\")\n",
    "parallel_builder.add_edge(\"call_llm_2\", \"aggregator\")\n",
    "parallel_builder.add_edge(\"call_llm_3\", \"aggregator\")\n",
    "parallel_builder.add_edge(\"aggregator\", END)\n",
    "parallel_workflow = parallel_builder.compile()\n",
    "\n",
    "# Show workflow\n",
    "display(Image(parallel_workflow.get_graph().draw_mermaid_png()))"
   ]
  },
  {
   "cell_type": "code",
   "execution_count": 35,
   "metadata": {},
   "outputs": [
    {
     "name": "stdout",
     "output_type": "stream",
     "text": [
      "Here's a story, joke, and poem about cats!\n",
      "\n",
      "STORY:\n",
      "**The Secret Council of Whiskers**\n",
      "\n",
      "In a cozy little town called Felinshire, where the sun always seemed to shine and every garden had a patch of soft grass, lived a group of cats who were not just ordinary felines. These cats were the revered members of the Secret Council of Whiskers, a group dedicated to maintaining peace and harmony among the feline community.\n",
      "\n",
      "The council's headquarters was a grand old oak tree in the heart of Felinshire Park. Its thick trunk was hollowed out, creating a perfect meeting space adorned with soft moss and the occasional feather. The council convened every full moon, and it was during one such meeting that a pressing issue arose.\n",
      "\n",
      "Whiskers, the wise old tabby with a tufted ear, scratched his chin thoughtfully. “The humans are planning to expand the park and build a new playground. We must ensure they don’t disturb our territory!”\n",
      "\n",
      "Mittens, a fluffy calico with a penchant for mischief, chimed in excitedly, “But what about the sunbathing spots? And the best climbing trees? We can’t let them take those away!”\n",
      "\n",
      "Nibbles, a sleek black cat with bright green eyes, nodded in agreement. “We should gather evidence. Perhaps we can show the humans how much we cherish this space.”\n",
      "\n",
      "The council members decided to split into teams to gather information. Whiskers and Nibbles would scout the park during the day, observing the humans’ plans. Mittens, meanwhile, would rally the other cats in the neighborhood to join their cause.\n",
      "\n",
      "As the sun rose the next morning, Whiskers and Nibbles made their way through the park, stealthily observing the humans as they discussed their playground designs. They overheard snippets of conversations about slides, swings, and picnic areas, none of which included a single mention of the cats’ beloved sunbathing spots.\n",
      "\n",
      "Whiskers sighed. “It’s worse than I thought. We must act quickly!”\n",
      "\n",
      "Back at their secret hideout, Mittens had gathered a crowd of cats from all corners of Felinshire. There were the regal Siamese, the playful Persians, and even the aloof Maine Coons, all eager to join the fight for their park.\n",
      "\n",
      "“Listen up!” Mittens announced, her tail flicking with excitement. “Tomorrow night, we’ll stage a protest. We’ll show the humans how much this park means to us!”\n",
      "\n",
      "The cats spent the day preparing, practicing their protest meows and creating banners from old cloth. As twilight fell, they gathered beneath the oak tree, their eyes gleaming with determination.\n",
      "\n",
      "Under the silver light of the full moon, the cats marched into the park, their meows echoing through the night. They unfurled their banners, which read “Save Our Sunbathing Spots!” and “No More Playground!” The sight was both amusing and awe-inspiring, as the humans in the nearby houses peeked out their windows, bewildered by the feline uprising.\n",
      "\n",
      "The next morning, the humans arrived to find the park alive with cats, lounging on benches, playing in the grass, and adorning the playground equipment. The townsfolk were charmed by the sight and began to realize the cats’ presence was part of the park’s unique charm.\n",
      "\n",
      "After much discussion, the humans decided to hold a town meeting to address the cats' concerns. Whiskers, speaking on behalf of the Secret Council of Whiskers, presented their case with grace and wisdom. He explained how the park was not just a space for children to play but also a sanctuary for the cats that called it home.\n",
      "\n",
      "Moved by the cats’ passion, the humans agreed to redesign their plans. They would create a smaller playground that would coexist with the cats’ sunbathing spots, ensuring that both the children and the felines could enjoy the park together.\n",
      "\n",
      "As the sun set that evening, the council members reconvened beneath the oak tree, their hearts filled with joy. “We did it!” Mittens exclaimed, her eyes sparkling.\n",
      "\n",
      "Whiskers smiled, his tufted ear twitching with pride. “Indeed we did. And let this be a reminder that when we stand together, we can achieve great things.”\n",
      "\n",
      "From that day forward, the cats of Felinshire not only had their sunbathing spots preserved but also forged a new bond with the humans, who learned to appreciate the charm and wisdom of their furry neighbors. The Secret Council of Whiskers continued to meet every full moon, not just to protect their territory but to celebrate the unique bond between cats and humans in their lovely town.\n",
      "\n",
      "JOKE:\n",
      "Why was the cat sitting on the computer?\n",
      "\n",
      "Because it wanted to keep an eye on the mouse!\n",
      "\n",
      "POEM:\n",
      "In shadows sleek, where silence weaves,  \n",
      "A world unfolds beneath the leaves,  \n",
      "With velvet paws and eyes like stars,  \n",
      "The feline grace, our quiet czars.  \n",
      "\n",
      "They stretch and yawn, in morning light,  \n",
      "A dance of whispers, soft and slight,  \n",
      "With tails held high, they prowl their domain,  \n",
      "Each corner a kingdom, each room their reign.  \n",
      "\n",
      "A pounce, a leap, the chase begins,  \n",
      "On sunlit floors, where laughter spins,  \n",
      "A flick of whiskers, a playful glance,  \n",
      "In every movement, a secret dance.  \n",
      "\n",
      "They curl like dreams in a patch of sun,  \n",
      "Content in stillness, the day is won,  \n",
      "With gentle purrs, they hum their tune,  \n",
      "A symphony beneath the moon.  \n",
      "\n",
      "Oh, creatures wise, with ancient grace,  \n",
      "In your soft presence, we find our place,  \n",
      "For in your gaze, the world stands still,  \n",
      "A heart’s reflection, a soothing thrill.  \n",
      "\n",
      "So let us cherish each fleeting day,  \n",
      "With our feline friends who love to play,  \n",
      "For in their eyes, the mysteries lie,  \n",
      "A glimpse of magic that never says goodbye.  \n"
     ]
    }
   ],
   "source": [
    "state = parallel_workflow.invoke({\"topic\": \"cats\"})\n",
    "print(state[\"combined_output\"])"
   ]
  },
  {
   "cell_type": "markdown",
   "metadata": {},
   "source": [
    "### Routing"
   ]
  },
  {
   "cell_type": "code",
   "execution_count": 36,
   "metadata": {},
   "outputs": [],
   "source": [
    "from typing_extensions import Literal\n",
    "\n",
    "# Schema for structured output to use as routing logic\n",
    "class Route(BaseModel):\n",
    "    step: Literal[\"poem\", \"story\", \"joke\"] = Field(\n",
    "        None, description=\"The next step in the routing process\"\n",
    "    )\n",
    "\n",
    "# Augment the LLM with schema for structured output\n",
    "router = llm.with_structured_output(Route)"
   ]
  },
  {
   "cell_type": "code",
   "execution_count": 37,
   "metadata": {},
   "outputs": [],
   "source": [
    "class State(TypedDict):\n",
    "    input: str\n",
    "    decision: str\n",
    "    output: str"
   ]
  },
  {
   "cell_type": "code",
   "execution_count": 38,
   "metadata": {},
   "outputs": [],
   "source": [
    "from langchain_core.messages import HumanMessage, SystemMessage\n",
    "\n",
    "# Nodes\n",
    "def llm_call_1(state: State):\n",
    "    \"\"\"Write a story\"\"\"\n",
    "\n",
    "    print(\"Write a story\")\n",
    "    result = llm.invoke(state[\"input\"])\n",
    "    return {\"output\": result.content}\n",
    "\n",
    "\n",
    "def llm_call_2(state: State):\n",
    "    \"\"\"Write a joke\"\"\"\n",
    "\n",
    "    print(\"Write a joke\")\n",
    "    result = llm.invoke(state[\"input\"])\n",
    "    return {\"output\": result.content}\n",
    "\n",
    "\n",
    "def llm_call_3(state: State):\n",
    "    \"\"\"Write a poem\"\"\"\n",
    "\n",
    "    print(\"Write a poem\")\n",
    "    result = llm.invoke(state[\"input\"])\n",
    "    return {\"output\": result.content}\n",
    "\n",
    "\n",
    "def llm_call_router(state: State):\n",
    "    \"\"\"Route the input to the appropriate node\"\"\"\n",
    "\n",
    "    # Run the augmented LLM with structured output to serve as routing logic\n",
    "    decision = router.invoke(\n",
    "        [\n",
    "            SystemMessage(\n",
    "                content=\"Route the input to story, joke, or poem based on the user's request.\"\n",
    "            ),\n",
    "            HumanMessage(content=state[\"input\"]),\n",
    "        ]\n",
    "    )\n",
    "\n",
    "    return {\"decision\": decision.step}\n",
    "\n",
    "# Conditional edge function to route to the appropriate node\n",
    "def route_decision(state: State):\n",
    "    # Return the node name you want to visit next\n",
    "    if state[\"decision\"] == \"story\":\n",
    "        return \"llm_call_1\"\n",
    "    elif state[\"decision\"] == \"joke\":\n",
    "        return \"llm_call_2\"\n",
    "    elif state[\"decision\"] == \"poem\":\n",
    "        return \"llm_call_3\""
   ]
  },
  {
   "cell_type": "code",
   "execution_count": 39,
   "metadata": {},
   "outputs": [
    {
     "data": {
      "image/png": "[encoded data removed]",
      "text/plain": [
       "<IPython.core.display.Image object>"
      ]
     },
     "metadata": {},
     "output_type": "display_data"
    }
   ],
   "source": [
    "router_builder = StateGraph(State)\n",
    "\n",
    "# Add nodes\n",
    "router_builder.add_node(\"llm_call_1\", llm_call_1)\n",
    "router_builder.add_node(\"llm_call_2\", llm_call_2)\n",
    "router_builder.add_node(\"llm_call_3\", llm_call_3)\n",
    "router_builder.add_node(\"llm_call_router\", llm_call_router)\n",
    "\n",
    "# Add edges to connect nodes\n",
    "router_builder.add_edge(START, \"llm_call_router\")\n",
    "router_builder.add_conditional_edges(\n",
    "    \"llm_call_router\",\n",
    "    route_decision,\n",
    "    {  # Name returned by route_decision : Name of next node to visit\n",
    "        \"llm_call_1\": \"llm_call_1\",\n",
    "        \"llm_call_2\": \"llm_call_2\",\n",
    "        \"llm_call_3\": \"llm_call_3\",\n",
    "    },\n",
    ")\n",
    "router_builder.add_edge(\"llm_call_1\", END)\n",
    "router_builder.add_edge(\"llm_call_2\", END)\n",
    "router_builder.add_edge(\"llm_call_3\", END)\n",
    "\n",
    "# Compile workflow\n",
    "router_workflow = router_builder.compile()\n",
    "\n",
    "# Show the workflow\n",
    "display(Image(router_workflow.get_graph().draw_mermaid_png()))"
   ]
  },
  {
   "cell_type": "code",
   "execution_count": 40,
   "metadata": {},
   "outputs": [
    {
     "name": "stdout",
     "output_type": "stream",
     "text": [
      "Write a joke\n",
      "Why was the cat sitting on the computer?\n",
      "\n",
      "Because it wanted to keep an eye on the mouse!\n"
     ]
    }
   ],
   "source": [
    "state = router_workflow.invoke({\"input\": \"Write me a joke about cats\"})\n",
    "print(state[\"output\"])"
   ]
  },
  {
   "cell_type": "code",
   "execution_count": null,
   "metadata": {},
   "outputs": [],
   "source": []
  }
 ],
 "metadata": {
  "kernelspec": {
   "display_name": "ai_agents",
   "language": "python",
   "name": "python3"
  },
  "language_info": {
   "codemirror_mode": {
    "name": "ipython",
    "version": 3
   },
   "file_extension": ".py",
   "mimetype": "text/x-python",
   "name": "python",
   "nbconvert_exporter": "python",
   "pygments_lexer": "ipython3",
   "version": "3.9.17"
  }
 },
 "nbformat": 4,
 "nbformat_minor": 2
}
